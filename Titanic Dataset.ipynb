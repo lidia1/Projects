{
  "cells": [
    {
      "cell_type": "code",
      "source": [
        "import numpy as np\n",
        "import pandas as pd\n",
        "import sklearn\n",
        "import matplotlib.pyplot as plt\n",
        "import seaborn as sns"
      ],
      "metadata": {
        "id": "3cZZE9OiYFYx"
      },
      "execution_count": null,
      "outputs": []
    },
    {
      "cell_type": "code",
      "source": [
        "titanic_df=pd.read_csv('/content/train.csv')"
      ],
      "metadata": {
        "id": "eQLc5yNNYPdn"
      },
      "execution_count": null,
      "outputs": []
    },
    {
      "cell_type": "code",
      "source": [
        "titanic_df.head(10)"
      ],
      "metadata": {
        "id": "bIaaRWtWYsas"
      },
      "execution_count": null,
      "outputs": []
    },
    {
      "cell_type": "code",
      "source": [
        "titanic_df.shape"
      ],
      "metadata": {
        "id": "Q7EOg0J7YzeZ"
      },
      "execution_count": null,
      "outputs": []
    },
    {
      "cell_type": "code",
      "source": [
        "titanic_df.drop(['PassengerId','Name','Ticket', 'Cabin'] ,axis=1, inplace=True)"
      ],
      "metadata": {
        "id": "Ivo8CyHNY3aZ"
      },
      "execution_count": null,
      "outputs": []
    },
    {
      "cell_type": "code",
      "source": [
        "titanic_df.head()"
      ],
      "metadata": {
        "id": "VGk0JNaFZF6W"
      },
      "execution_count": null,
      "outputs": []
    },
    {
      "cell_type": "code",
      "source": [
        "titanic_df[titanic_df.isnull().any(axis=1)].count()"
      ],
      "metadata": {
        "id": "PR1BvKAcZIcJ"
      },
      "execution_count": null,
      "outputs": []
    },
    {
      "cell_type": "code",
      "source": [
        "titanic_df=titanic_df.dropna()"
      ],
      "metadata": {
        "id": "_1TlE0t5ZipX"
      },
      "execution_count": null,
      "outputs": []
    },
    {
      "cell_type": "code",
      "source": [
        "titanic_df.shape"
      ],
      "metadata": {
        "id": "3roIFHuZZw1m"
      },
      "execution_count": null,
      "outputs": []
    },
    {
      "cell_type": "code",
      "source": [
        "titanic_df[titanic_df.isnull().any(axis=1)].count()"
      ],
      "metadata": {
        "id": "hPpfxPpXZzRh"
      },
      "execution_count": null,
      "outputs": []
    },
    {
      "cell_type": "code",
      "source": [
        "titanic_df.describe()"
      ],
      "metadata": {
        "id": "9FErpuqKZ6d5"
      },
      "execution_count": null,
      "outputs": []
    },
    {
      "cell_type": "code",
      "source": [
        "fig, ax=plt.subplots(figsize=(12,8))\n",
        "\n",
        "plt.scatter(titanic_df['Age'],titanic_df['Survived'])\n",
        "\n",
        "plt.xlabel('Age')\n",
        "plt.ylabel('Survived')"
      ],
      "metadata": {
        "id": "zxlH_VZgZ9Mj"
      },
      "execution_count": null,
      "outputs": []
    },
    {
      "cell_type": "code",
      "source": [
        "pd.crosstab(titanic_df['Sex'], titanic_df['Survived'])"
      ],
      "metadata": {
        "id": "xmxEFOokataD"
      },
      "execution_count": null,
      "outputs": []
    },
    {
      "cell_type": "code",
      "source": [
        "pd.crosstab(titanic_df['Pclass'], titanic_df['Survived'])"
      ],
      "metadata": {
        "id": "4u3P_0AvoGj1"
      },
      "execution_count": null,
      "outputs": []
    },
    {
      "cell_type": "code",
      "source": [
        "titanic_data_corr=titanic_df.corr()\n",
        "titanic_data_corr"
      ],
      "metadata": {
        "id": "b0VH0Http7ma"
      },
      "execution_count": null,
      "outputs": []
    },
    {
      "cell_type": "code",
      "source": [
        "fig, ax =plt.subplots(figsize=(12,10))\n",
        "sns.heatmap(titanic_data_corr, annot=True)"
      ],
      "metadata": {
        "id": "t3Xwb-UCrhlk"
      },
      "execution_count": null,
      "outputs": []
    },
    {
      "cell_type": "code",
      "source": [
        "from sklearn import preprocessing\n",
        "\n",
        "label_encoding= preprocessing.LabelEncoder()\n",
        "titanic_df['Sex']=label_encoding.fit_transform(titanic_df['Sex'].astype(str))\n",
        "\n",
        "titanic_df.head()"
      ],
      "metadata": {
        "id": "-DlayAepsK5V"
      },
      "execution_count": null,
      "outputs": []
    },
    {
      "cell_type": "code",
      "source": [
        "label_encoding.classes_"
      ],
      "metadata": {
        "id": "kduWUMpesqJQ"
      },
      "execution_count": null,
      "outputs": []
    },
    {
      "cell_type": "code",
      "source": [
        "titanic_df=pd.get_dummies(titanic_df, columns=['Embarked'])\n",
        "titanic_df.head()"
      ],
      "metadata": {
        "id": "NQTEUg4Ju9wG"
      },
      "execution_count": null,
      "outputs": []
    },
    {
      "cell_type": "code",
      "source": [
        "titanic_df= titanic_df.sample(frac=1).reset_index(drop=True)\n",
        "titanic_df.head()"
      ],
      "metadata": {
        "id": "Ca-KFcpBtCl2"
      },
      "execution_count": null,
      "outputs": []
    },
    {
      "cell_type": "code",
      "source": [
        "titanic_df.to_csv('/content/train_processed.csv', index=False)"
      ],
      "metadata": {
        "id": "31n5Hq2WtjpJ"
      },
      "execution_count": null,
      "outputs": []
    },
    {
      "cell_type": "code",
      "source": [
        "!ls "
      ],
      "metadata": {
        "id": "9izEcb5puHwZ"
      },
      "execution_count": null,
      "outputs": []
    },
    {
      "cell_type": "markdown",
      "source": [
        "# Training the mode\n",
        "\n",
        "\n",
        "\n",
        "### Binary Classification -- Logistic Regression"
      ],
      "metadata": {
        "id": "EeLTKhhUua3e"
      }
    },
    {
      "cell_type": "code",
      "source": [
        "titanic_df=pd.read_csv('/content/train_processed.csv')\n",
        "titanic_df.head()"
      ],
      "metadata": {
        "id": "L7pt2pmvuP8J"
      },
      "execution_count": null,
      "outputs": []
    },
    {
      "cell_type": "code",
      "source": [
        "titanic_df.shape"
      ],
      "metadata": {
        "id": "qZkMRZv5uynH"
      },
      "execution_count": null,
      "outputs": []
    },
    {
      "cell_type": "code",
      "source": [
        "from sklearn.model_selection import train_test_split\n",
        "\n",
        "X=titanic_df.drop('Survived', axis=1)\n",
        "Y = titanic_df['Survived']\n",
        "\n",
        "X_train, X_test, y_train, y_test = train_test_split(X,Y, test_size=0.2)"
      ],
      "metadata": {
        "id": "D5CujL-tvjl1"
      },
      "execution_count": null,
      "outputs": []
    },
    {
      "cell_type": "code",
      "source": [
        "y_test"
      ],
      "metadata": {
        "id": "naKWLMTEQgyu"
      },
      "execution_count": null,
      "outputs": []
    },
    {
      "cell_type": "code",
      "source": [
        "X_train.shape, y_train.shape"
      ],
      "metadata": {
        "id": "d2bUYJjkv8xg"
      },
      "execution_count": null,
      "outputs": []
    },
    {
      "cell_type": "code",
      "source": [
        "X_test.shape, y_test.shape"
      ],
      "metadata": {
        "id": "SxyZ5EuowMPS"
      },
      "execution_count": null,
      "outputs": []
    },
    {
      "cell_type": "code",
      "source": [
        "from sklearn.linear_model import LogisticRegression\n"
      ],
      "metadata": {
        "id": "xJvkXV-BwTpq"
      },
      "execution_count": null,
      "outputs": []
    },
    {
      "cell_type": "code",
      "source": [
        "logistic_model=LogisticRegression(penalty='l2', C=1.0, solver='liblinear')"
      ],
      "metadata": {
        "id": "E5fRAMPAwdtu"
      },
      "execution_count": null,
      "outputs": []
    },
    {
      "cell_type": "code",
      "source": [
        "logistic_model.fit(X_train, y_train)"
      ],
      "metadata": {
        "id": "N-4BoFX-wqpy"
      },
      "execution_count": null,
      "outputs": []
    },
    {
      "cell_type": "code",
      "source": [
        "y_pred=logistic_model.predict(X_test)"
      ],
      "metadata": {
        "id": "5Svr8I28xbwc"
      },
      "execution_count": null,
      "outputs": []
    },
    {
      "cell_type": "code",
      "source": [
        "pred_results=pd.DataFrame({'y_test':y_test,\n",
        "                          'y_pred':y_pred})"
      ],
      "metadata": {
        "id": "X3WQkApWxfmA"
      },
      "execution_count": null,
      "outputs": []
    },
    {
      "cell_type": "code",
      "source": [
        "pred_results.head()"
      ],
      "metadata": {
        "id": "EbJEa-KKxohy"
      },
      "execution_count": null,
      "outputs": []
    },
    {
      "cell_type": "code",
      "source": [
        "titanic_crosstab=pd.crosstab(pred_results.y_pred, pred_results.y_test)\n",
        "\n",
        "titanic_crosstab"
      ],
      "metadata": {
        "id": "GuqUTr86x5qk"
      },
      "execution_count": null,
      "outputs": []
    },
    {
      "cell_type": "code",
      "source": [
        "from sklearn.metrics import accuracy_score, precision_score, recall_score"
      ],
      "metadata": {
        "id": "qDLtvPqwyLpt"
      },
      "execution_count": null,
      "outputs": []
    },
    {
      "cell_type": "code",
      "source": [
        "acc= accuracy_score(y_test, y_pred)\n",
        "prec= precision_score(y_test, y_pred)\n",
        "recall= recall_score(y_test, y_pred)\n",
        "\n",
        "print(\"accuracy_score: \", acc)\n",
        "print(\"precision_score: \", prec)\n",
        "print(\"recalll_score: \", recall)"
      ],
      "metadata": {
        "id": "3YFChpt2yb7E"
      },
      "execution_count": null,
      "outputs": []
    },
    {
      "cell_type": "code",
      "source": [
        "from sklearn.discriminant_analysis import LinearDiscriminantAnalysis\n",
        "from sklearn.discriminant_analysis import QuadraticDiscriminantAnalysis\n",
        "from sklearn.linear_model import SGDClassifier\n",
        "from sklearn.svm import LinearSVC\n",
        "from sklearn.neighbors import RadiusNeighborsClassifier\n",
        "from sklearn.naive_bayes import GaussianNB\n",
        "from sklearn.tree import DecisionTreeClassifier"
      ],
      "metadata": {
        "id": "SEQrMW33ypdP"
      },
      "execution_count": null,
      "outputs": []
    },
    {
      "cell_type": "code",
      "source": [
        "titanic_df.head()"
      ],
      "metadata": {
        "id": "JjdQ9RqaR1zH"
      },
      "execution_count": null,
      "outputs": []
    },
    {
      "cell_type": "code",
      "source": [
        "FEATURES=list(titanic_df.columns[1:])\n",
        "\n",
        "FEATURES"
      ],
      "metadata": {
        "id": "LmXdDIdXWtPZ"
      },
      "execution_count": null,
      "outputs": []
    },
    {
      "cell_type": "markdown",
      "source": [
        "## Create helper functions"
      ],
      "metadata": {
        "id": "tomi75Wfchvd"
      }
    },
    {
      "cell_type": "code",
      "source": [
        "result_dict={}"
      ],
      "metadata": {
        "id": "Lypu_eMdSAJl"
      },
      "execution_count": null,
      "outputs": []
    },
    {
      "cell_type": "code",
      "source": [
        "def summarize_classification(y_test, y_pred):\n",
        "  acc=accuracy_score(y_test, y_pred, normalize=True) #accuracy in term of a fraction\n",
        "  num_acc=accuracy_score(y_test, y_pred, normalize=False) # nr of accurately predicted labels\n",
        "\n",
        "  prec= precision_score(y_test, y_pred)\n",
        "  recall= recall_score(y_test, y_pred)\n",
        "\n",
        "  return {'accuracy' : acc,\n",
        "          'precision': prec,\n",
        "          'recall': recall,\n",
        "          'accuracy_count': num_acc}"
      ],
      "metadata": {
        "id": "svZYlUHLUGvh"
      },
      "execution_count": null,
      "outputs": []
    },
    {
      "cell_type": "code",
      "source": [
        "def build_model(classifier_fn,\n",
        "                name_of_y_cols,\n",
        "                names_of_x_cols,\n",
        "                dataset,\n",
        "                test_frac=0.2):\n",
        "  \n",
        "  X = dataset[names_of_x_cols]\n",
        "  Y= dataset[name_of_y_cols]\n",
        "\n",
        "  x_train, x_test, y_train, y_test= train_test_split(X, Y, test_size= test_frac)\n",
        "  \n",
        "  model=classifier_fn(x_train, y_train)\n",
        "\n",
        "  y_pred= model.predict(x_test)\n",
        "\n",
        "  y_pred_train = model.predict(x_train)\n",
        "\n",
        "  train_summary= summarize_classification(y_train, y_pred_train)\n",
        "  test_summary = summarize_classification(y_test, y_pred)\n",
        "\n",
        "  pred_results =pd.DataFrame({'y_test': y_test,\n",
        "                              'y_pred': y_pred})\n",
        "  \n",
        "  model_crosstab= pd.crosstab(pred_results.y_pred, pred_results.y_test) #calculate the confusion matrix\n",
        "\n",
        "  return {'training': train_summary,\n",
        "          'test': test_summary,\n",
        "          'confusion_matrix': model_crosstab}"
      ],
      "metadata": {
        "id": "lXd0vrMMXsli"
      },
      "execution_count": null,
      "outputs": []
    },
    {
      "cell_type": "code",
      "source": [
        "def compare_results():\n",
        "  for key in result_dict:\n",
        "    print('Classification: ', key)\n",
        "\n",
        "    print()\n",
        "    print('Training Data')\n",
        "    for score in result_dict[key]['training']:\n",
        "      print(score, result_dict[key]['training'][score])\n",
        "\n",
        "    print()\n",
        "    print('Test Data')\n",
        "    for score in result_dict[key]['test']:\n",
        "      print(score, result_dict[key]['test'][score])\n",
        "\n",
        "    print()"
      ],
      "metadata": {
        "id": "MAgRsyZra-0z"
      },
      "execution_count": null,
      "outputs": []
    },
    {
      "cell_type": "markdown",
      "source": [
        "## Build and train using the functions"
      ],
      "metadata": {
        "id": "fWraFh2ecoc0"
      }
    },
    {
      "cell_type": "code",
      "source": [
        "def logistic_fn(X_train, y_train):\n",
        "\n",
        "   model= LogisticRegression(solver='liblinear')\n",
        "   model.fit(X_train, y_train)\n",
        "\n",
        "   return model"
      ],
      "metadata": {
        "id": "oJj9jTIkcSNJ"
      },
      "execution_count": null,
      "outputs": []
    },
    {
      "cell_type": "code",
      "source": [
        "result_dict['survived ~ logistic']= build_model(logistic_fn,'Survived', FEATURES, titanic_df)\n",
        "\n",
        "compare_results()"
      ],
      "metadata": {
        "id": "5n3aJZQDc5MT"
      },
      "execution_count": null,
      "outputs": []
    },
    {
      "cell_type": "code",
      "source": [
        "def linear_discriminant_fn(X_train, y_train, solver='svd'):\n",
        "  \n",
        "  model= LinearDiscriminantAnalysis(solver=solver)\n",
        "  model.fit(X_train, y_train)\n",
        "\n",
        "  return model"
      ],
      "metadata": {
        "id": "wMgeURtBdKoC"
      },
      "execution_count": null,
      "outputs": []
    },
    {
      "cell_type": "code",
      "source": [
        "result_dict['survived ~ linear_discriminant_analysis']= build_model(linear_discriminant_fn, 'Survived',FEATURES[0:-1],titanic_df)\n",
        "\n",
        "compare_results()"
      ],
      "metadata": {
        "id": "4nVBI01e7E_t"
      },
      "execution_count": null,
      "outputs": []
    },
    {
      "cell_type": "code",
      "source": [
        "def quadratic_discrimininat_fn(X_train, y_train):\n",
        "\n",
        "  model= QuadraticDiscriminantAnalysis()\n",
        "  model.fit(X_train, y_train)\n",
        "\n",
        "  return model"
      ],
      "metadata": {
        "id": "rqG3R1q-7VjS"
      },
      "execution_count": null,
      "outputs": []
    },
    {
      "cell_type": "code",
      "source": [
        "result_dict['survived ~ quadratic_discriminant_analysis']= build_model(quadratic_discrimininat_fn,'Survived', FEATURES[0:-1], titanic_df)\n",
        "## drop on of the column from the very end so that our embarked categorical variable is dummy encoded, not one-hot encoded\n",
        "compare_results()"
      ],
      "metadata": {
        "id": "3UsJ2iTMePpe"
      },
      "execution_count": null,
      "outputs": []
    },
    {
      "cell_type": "code",
      "source": [
        "def sgd_fn(X_train, y_train, max_iter=10000, tol=1e-3): #tol=tolerance value \n",
        "\n",
        "  model= SGDClassifier(max_iter=max_iter, tol=tol)\n",
        "  model.fit(X_train, y_train)\n",
        "\n",
        "  return model"
      ],
      "metadata": {
        "id": "VQArXIBAgwql"
      },
      "execution_count": null,
      "outputs": []
    },
    {
      "cell_type": "code",
      "source": [
        "result_dict['survived ~ sgd']= build_model(sgd_fn, 'Survived', FEATURES, titanic_df)\n",
        "\n",
        "compare_results()"
      ],
      "metadata": {
        "id": "8g3d2xZKpM5Z"
      },
      "execution_count": null,
      "outputs": []
    },
    {
      "cell_type": "code",
      "source": [],
      "metadata": {
        "id": "3Qx7Up18pwxs"
      },
      "execution_count": null,
      "outputs": []
    }
  ],
  "metadata": {
    "colab": {
      "collapsed_sections": [],
      "private_outputs": true,
      "provenance": []
    },
    "kernelspec": {
      "display_name": "Python 3",
      "name": "python3"
    },
    "language_info": {
      "name": "python"
    }
  },
  "nbformat": 4,
  "nbformat_minor": 0
}